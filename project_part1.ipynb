{
  "nbformat": 4,
  "nbformat_minor": 0,
  "metadata": {
    "kernelspec": {
      "display_name": "Python 3",
      "language": "python",
      "name": "python3"
    },
    "language_info": {
      "codemirror_mode": {
        "name": "ipython",
        "version": 3
      },
      "file_extension": ".py",
      "mimetype": "text/x-python",
      "name": "python",
      "nbconvert_exporter": "python",
      "pygments_lexer": "ipython3",
      "version": "3.7.6"
    },
    "colab": {
      "name": "project_part1.ipynb",
      "provenance": [],
      "include_colab_link": true
    }
  },
  "cells": [
    {
      "cell_type": "markdown",
      "metadata": {
        "id": "view-in-github",
        "colab_type": "text"
      },
      "source": [
        "<a href=\"https://colab.research.google.com/github/Galzi1/DataDiscoveryNNProj/blob/master/project_part1.ipynb\" target=\"_parent\"><img src=\"https://colab.research.google.com/assets/colab-badge.svg\" alt=\"Open In Colab\"/></a>"
      ]
    },
    {
      "cell_type": "markdown",
      "metadata": {
        "id": "1Zjs06u9hUwN",
        "colab_type": "text"
      },
      "source": [
        "# Knowledge Data Discovery and Neural Networks : Final Project"
      ]
    },
    {
      "cell_type": "markdown",
      "metadata": {
        "id": "Bw0NnWnVhUwO",
        "colab_type": "text"
      },
      "source": [
        "In this notebook we will do some basic data analysis in python \n",
        "\n",
        "## Clarifications\n",
        "1. The same score for the project will be given to each member of the team.  \n",
        "2. When you are asked to provide a verbal solution - write it concisely and short (a couple of sentences).\n",
        "3. Data decription can be found [here](https://archive.ics.uci.edu/ml/datasets/adult)"
      ]
    },
    {
      "cell_type": "markdown",
      "metadata": {
        "id": "8aCu2BlghUwQ",
        "colab_type": "text"
      },
      "source": [
        "# 1. Imports"
      ]
    },
    {
      "cell_type": "code",
      "metadata": {
        "id": "pXQCkrQjhUwQ",
        "colab_type": "code",
        "colab": {
          "base_uri": "https://localhost:8080/",
          "height": 70
        },
        "outputId": "5c6d190a-0d18-4269-c1d9-a3733d328eb9"
      },
      "source": [
        "# add more packages in this section\n",
        "import numpy as np\n",
        "import pandas as pd\n",
        "import matplotlib.pyplot as plt\n",
        "import seaborn as sns\n",
        "%matplotlib inline"
      ],
      "execution_count": 1,
      "outputs": [
        {
          "output_type": "stream",
          "text": [
            "/usr/local/lib/python3.6/dist-packages/statsmodels/tools/_testing.py:19: FutureWarning: pandas.util.testing is deprecated. Use the functions in the public API at pandas.testing instead.\n",
            "  import pandas.util.testing as tm\n"
          ],
          "name": "stderr"
        }
      ]
    },
    {
      "cell_type": "markdown",
      "metadata": {
        "id": "I4NnhMvphUwT",
        "colab_type": "text"
      },
      "source": [
        "# 2. Exploratory data analysis"
      ]
    },
    {
      "cell_type": "code",
      "metadata": {
        "id": "P1A8I6owhUwT",
        "colab_type": "code",
        "colab": {}
      },
      "source": [
        "# data = pd.read_csv(\"data/adult.data\", header = None)\n",
        "data = pd.read_csv(\"https://raw.githubusercontent.com/Galzi1/DataDiscoveryNNProj/master/data/adult.data\", header = None)\n",
        "cols = ['age', 'workclass', 'fnlwgt','education','education_num','marital_status','occupation','relationship','race','sex','capital_gain', 'capital_loss'\n",
        "    ,'hours_per_week','native_country','y']\n",
        "data.columns = cols"
      ],
      "execution_count": 22,
      "outputs": []
    },
    {
      "cell_type": "markdown",
      "metadata": {
        "id": "v9KYQFO2hUwW",
        "colab_type": "text"
      },
      "source": [
        "## 2.1 Row and column count\n",
        "* How many rows and columns/features we have in the dataset? "
      ]
    },
    {
      "cell_type": "code",
      "metadata": {
        "id": "D_0lmamEhUwW",
        "colab_type": "code",
        "colab": {
          "base_uri": "https://localhost:8080/",
          "height": 34
        },
        "outputId": "12d9ffe5-4c5b-427d-91a5-767ad5767a0a"
      },
      "source": [
        "### YOUR CODE HERE\n",
        "rows_num = data.shape[0]\n",
        "cols_num = data.shape[1]\n",
        "\n",
        "print(f'Rows number = {rows_num}, Columns number = {cols_num}')\n",
        "### END YOUR CODE"
      ],
      "execution_count": 11,
      "outputs": [
        {
          "output_type": "stream",
          "text": [
            "Rows number = 32561, Columns number = 15\n"
          ],
          "name": "stdout"
        }
      ]
    },
    {
      "cell_type": "markdown",
      "metadata": {
        "id": "33yTEHfRhUwY",
        "colab_type": "text"
      },
      "source": [
        "## 2.2 Missing values proporiton\n",
        "* For each feature - what is the percantage of missing values in it?\n",
        "* Describe one method to fill missing data (data imputation)\n",
        "\n",
        "If there will be many missing values then we will need to take it in consideration later "
      ]
    },
    {
      "cell_type": "code",
      "metadata": {
        "id": "NQLtOevKhUwY",
        "colab_type": "code",
        "colab": {
          "base_uri": "https://localhost:8080/",
          "height": 457
        },
        "outputId": "b3a02f6c-e4ba-4f93-9a1a-6b86e93cc152"
      },
      "source": [
        "### YOUR CODE HERE\n",
        "# 1)\n",
        "print(data.isna().sum())\n",
        "# 2)\n",
        "for c in data.columns:\n",
        "  if not np.issubdtype(data[c].dtype, np.number):\n",
        "    print(f'Column = {c}; unique values = {sorted(data[c].unique())}')\n",
        "# 3)\n",
        "\n",
        "\n",
        "\n",
        "### END YOUR CODE"
      ],
      "execution_count": 25,
      "outputs": [
        {
          "output_type": "stream",
          "text": [
            "age               0\n",
            "workclass         0\n",
            "fnlwgt            0\n",
            "education         0\n",
            "education_num     0\n",
            "marital_status    0\n",
            "occupation        0\n",
            "relationship      0\n",
            "race              0\n",
            "sex               0\n",
            "capital_gain      0\n",
            "capital_loss      0\n",
            "hours_per_week    0\n",
            "native_country    0\n",
            "y                 0\n",
            "dtype: int64\n",
            "Column = workclass; unique values = [' ?', ' Federal-gov', ' Local-gov', ' Never-worked', ' Private', ' Self-emp-inc', ' Self-emp-not-inc', ' State-gov', ' Without-pay']\n",
            "Column = education; unique values = [' 10th', ' 11th', ' 12th', ' 1st-4th', ' 5th-6th', ' 7th-8th', ' 9th', ' Assoc-acdm', ' Assoc-voc', ' Bachelors', ' Doctorate', ' HS-grad', ' Masters', ' Preschool', ' Prof-school', ' Some-college']\n",
            "Column = marital_status; unique values = [' Divorced', ' Married-AF-spouse', ' Married-civ-spouse', ' Married-spouse-absent', ' Never-married', ' Separated', ' Widowed']\n",
            "Column = occupation; unique values = [' ?', ' Adm-clerical', ' Armed-Forces', ' Craft-repair', ' Exec-managerial', ' Farming-fishing', ' Handlers-cleaners', ' Machine-op-inspct', ' Other-service', ' Priv-house-serv', ' Prof-specialty', ' Protective-serv', ' Sales', ' Tech-support', ' Transport-moving']\n",
            "Column = relationship; unique values = [' Husband', ' Not-in-family', ' Other-relative', ' Own-child', ' Unmarried', ' Wife']\n",
            "Column = race; unique values = [' Amer-Indian-Eskimo', ' Asian-Pac-Islander', ' Black', ' Other', ' White']\n",
            "Column = sex; unique values = [' Female', ' Male']\n",
            "Column = native_country; unique values = [' ?', ' Cambodia', ' Canada', ' China', ' Columbia', ' Cuba', ' Dominican-Republic', ' Ecuador', ' El-Salvador', ' England', ' France', ' Germany', ' Greece', ' Guatemala', ' Haiti', ' Holand-Netherlands', ' Honduras', ' Hong', ' Hungary', ' India', ' Iran', ' Ireland', ' Italy', ' Jamaica', ' Japan', ' Laos', ' Mexico', ' Nicaragua', ' Outlying-US(Guam-USVI-etc)', ' Peru', ' Philippines', ' Poland', ' Portugal', ' Puerto-Rico', ' Scotland', ' South', ' Taiwan', ' Thailand', ' Trinadad&Tobago', ' United-States', ' Vietnam', ' Yugoslavia']\n",
            "Column = y; unique values = [' <=50K', ' >50K']\n"
          ],
          "name": "stdout"
        }
      ]
    },
    {
      "cell_type": "markdown",
      "metadata": {
        "id": "7UR8vbIjhUwa",
        "colab_type": "text"
      },
      "source": [
        "#### YOUR VERBAL SOLUTION HERE\n",
        "\n",
        "\n",
        "\n",
        "#### END YOUR VERBAL SOLUTION HERE"
      ]
    },
    {
      "cell_type": "markdown",
      "metadata": {
        "id": "Psfv4smjhUwb",
        "colab_type": "text"
      },
      "source": [
        "## 2.3 Categorical features\n",
        "\n",
        "* Which of the features are categorical type? for each feature like that, how many unique values it has?"
      ]
    },
    {
      "cell_type": "code",
      "metadata": {
        "id": "_ljoASIihUwb",
        "colab_type": "code",
        "colab": {}
      },
      "source": [
        "### YOUR CODE HERE\n",
        "\n",
        "\n",
        "\n",
        "### END YOUR CODE"
      ],
      "execution_count": null,
      "outputs": []
    },
    {
      "cell_type": "markdown",
      "metadata": {
        "id": "8aTO2Z_XhUwd",
        "colab_type": "text"
      },
      "source": [
        "## 2.4 Feature distribution\n",
        "\n",
        "* Plot the distribution of each feature\n",
        "* Is our data set balanced (do we have the same amount of <=50K and >50K in the label?)"
      ]
    },
    {
      "cell_type": "code",
      "metadata": {
        "id": "B29XsArxhUwe",
        "colab_type": "code",
        "colab": {}
      },
      "source": [
        "### YOUR CODE HERE\n",
        "\n",
        "\n",
        "\n",
        "### END YOUR CODE"
      ],
      "execution_count": null,
      "outputs": []
    },
    {
      "cell_type": "markdown",
      "metadata": {
        "id": "hCkItQgOhUwg",
        "colab_type": "text"
      },
      "source": [
        "## 2.5 Correlation plot\n",
        "\n",
        "* Plot a correlation plot between the numeric features"
      ]
    },
    {
      "cell_type": "code",
      "metadata": {
        "id": "RFE4BYgrhUwg",
        "colab_type": "code",
        "colab": {}
      },
      "source": [
        "### YOUR CODE HERE\n",
        "\n",
        "\n",
        "\n",
        "### END YOUR CODE"
      ],
      "execution_count": null,
      "outputs": []
    },
    {
      "cell_type": "markdown",
      "metadata": {
        "id": "9esS02ORhUwi",
        "colab_type": "text"
      },
      "source": [
        "## 2.6 Important features\n",
        "\n",
        "* Try to understand which features will be important for the prediction and back it up with a plot or two that shows it.\n",
        "\n",
        "It is an open question and there are many ways to approach it. "
      ]
    },
    {
      "cell_type": "code",
      "metadata": {
        "id": "lSmeEYIohUwj",
        "colab_type": "code",
        "colab": {}
      },
      "source": [
        "### YOUR CODE HERE\n",
        "\n",
        "\n",
        "\n",
        "### END YOUR CODE"
      ],
      "execution_count": null,
      "outputs": []
    },
    {
      "cell_type": "markdown",
      "metadata": {
        "id": "6RCVG8CvhUwk",
        "colab_type": "text"
      },
      "source": [
        "#### YOUR VERBAL SOLUTION HERE\n",
        "\n",
        "\n",
        "\n",
        "#### END YOUR VERBAL SOLUTION HERE"
      ]
    }
  ]
}