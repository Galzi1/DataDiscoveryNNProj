{
 "cells": [
  {
   "cell_type": "markdown",
   "metadata": {},
   "source": [
    "# Knowledge Data Discovery and Neural Networks : Final Project"
   ]
  },
  {
   "cell_type": "markdown",
   "metadata": {},
   "source": [
    "In this notebook we will encounter the domain of recommender systems.\n",
    "\n",
    "The purpose of this section is to be able to face a new problem with the the skills you have thus far.\n",
    "\n",
    "The grade will be based on your results on the test set and will be realtive to the other class mates - we attach a file \"example_submission.csv\" which you need to submit so we can check your results on the test set -\"recommender_test.csv\" (only we know the labels), you need to use \"recommender_train.csv\" for the training and validation of the algorithm you choose. We will test you on the root mean squared error metric (RMSE).\n",
    "\n",
    "We add here a couple of questions to guide you throw the process of understanding the problem world, but they will not be graded.\n",
    "We recommend to try and use a couple of algorithms from [surprise package](http://surpriselib.com/) and find the one that works best for you. \n",
    "\n",
    "We **recommend** to read a couple of posts online on \"collaborative filtering\" in recommender systems to get to know the topic.\n",
    "\n",
    "#### guided questions - \n",
    "\n",
    "1. What are the features we have? are they numerical or categorical or do we have both?\n",
    "2. What are we trying to predict, is it classification or regression?\n",
    "3. Offer a very simple prediction algorithm that you may use and can implement yourself (it doesn't have to be complicated but make sure at least that each user gets a differnt rating for an item in the test set) - you may find it useful especially if you will have problems with [surprise package](http://surpriselib.com/) or other package that you want to use.\n",
    "\n",
    "\n",
    "It is recommended to read the [original paper on svd](https://datajobs.com/data-science-repo/Recommender-Systems-[Netflix].pdf).\n",
    "Other resources on collaborative filtering:\n",
    "\n",
    "* [collaborative filtering with knn ](https://medium.com/sfu-cspmp/recommendation-systems-user-based-collaborative-filtering-using-n-nearest-neighbors-bf7361dc24e0)\n",
    "* [more collaborative filtering](https://towardsdatascience.com/prototyping-a-recommender-system-step-by-step-part-1-knn-item-based-collaborative-filtering-637969614ea)"
   ]
  },
  {
   "cell_type": "code",
   "execution_count": 1,
   "metadata": {},
   "outputs": [],
   "source": [
    "# add more packages in this section\n",
    "import numpy as np\n",
    "import pandas as pd\n",
    "# import surprise # install it first\n",
    "%matplotlib inline"
   ]
  },
  {
   "cell_type": "code",
   "execution_count": 2,
   "metadata": {},
   "outputs": [],
   "source": [
    "train = pd.read_csv(\"data/recommender_train.csv\")\n",
    "test = pd.read_csv(\"data/recommender_test.csv\")"
   ]
  },
  {
   "cell_type": "markdown",
   "metadata": {},
   "source": [
    "### Predictions\n",
    "\n",
    "For your convience, we add a code that creates \"example_submission.csv\".\n",
    "You need to replace \"algo\" with your best algorithm.\n",
    "If you choose a different method to predict or create the algorithm you may write different code - it is not obligatory"
   ]
  },
  {
   "cell_type": "code",
   "execution_count": 3,
   "metadata": {},
   "outputs": [],
   "source": [
    "# predictions = []\n",
    "# for _, row in test.iterrows():\n",
    "#     predictions.append(algo.predict(row['user'], row['item']).est)\n",
    "# pd.Series(predictions).to_csv('example_submission.csv', index = None, header = None)"
   ]
  }
 ],
 "metadata": {
  "kernelspec": {
   "display_name": "Python 3",
   "language": "python",
   "name": "python3"
  },
  "language_info": {
   "codemirror_mode": {
    "name": "ipython",
    "version": 3
   },
   "file_extension": ".py",
   "mimetype": "text/x-python",
   "name": "python",
   "nbconvert_exporter": "python",
   "pygments_lexer": "ipython3",
   "version": "3.7.6"
  }
 },
 "nbformat": 4,
 "nbformat_minor": 4
}
